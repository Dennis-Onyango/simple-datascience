{
  "nbformat": 4,
  "nbformat_minor": 0,
  "metadata": {
    "colab": {
      "name": "Untitled3.ipynb",
      "provenance": [],
      "authorship_tag": "ABX9TyMlzKR6fRKsTxOj2uxezgdY",
      "include_colab_link": true
    },
    "kernelspec": {
      "name": "python3",
      "display_name": "Python 3"
    },
    "language_info": {
      "name": "python"
    }
  },
  "cells": [
    {
      "cell_type": "markdown",
      "metadata": {
        "id": "view-in-github",
        "colab_type": "text"
      },
      "source": [
        "<a href=\"https://colab.research.google.com/github/denisoon/Simple-Charts-Matplotlib/blob/main/initializingPysparkSql.ipynb\" target=\"_parent\"><img src=\"https://colab.research.google.com/assets/colab-badge.svg\" alt=\"Open In Colab\"/></a>"
      ]
    },
    {
      "cell_type": "code",
      "execution_count": 1,
      "metadata": {
        "colab": {
          "base_uri": "https://localhost:8080/",
          "height": 0
        },
        "id": "fIWyM5oCmJ8O",
        "outputId": "18d9f6d1-0768-44b8-b88c-fae974c142a2"
      },
      "outputs": [
        {
          "output_type": "stream",
          "name": "stdout",
          "text": [
            "Looking in indexes: https://pypi.org/simple, https://us-python.pkg.dev/colab-wheels/public/simple/\n",
            "Collecting Pyspark\n",
            "  Downloading pyspark-3.2.1.tar.gz (281.4 MB)\n",
            "\u001b[K     |████████████████████████████████| 281.4 MB 35 kB/s \n",
            "\u001b[?25hCollecting py4j==0.10.9.3\n",
            "  Downloading py4j-0.10.9.3-py2.py3-none-any.whl (198 kB)\n",
            "\u001b[K     |████████████████████████████████| 198 kB 52.1 MB/s \n",
            "\u001b[?25hBuilding wheels for collected packages: Pyspark\n",
            "  Building wheel for Pyspark (setup.py) ... \u001b[?25l\u001b[?25hdone\n",
            "  Created wheel for Pyspark: filename=pyspark-3.2.1-py2.py3-none-any.whl size=281853642 sha256=16e0297cfb22eb2e5d035fe805a42e21aa2d82cf4fac1b75c3b2ed998f697009\n",
            "  Stored in directory: /root/.cache/pip/wheels/9f/f5/07/7cd8017084dce4e93e84e92efd1e1d5334db05f2e83bcef74f\n",
            "Successfully built Pyspark\n",
            "Installing collected packages: py4j, Pyspark\n",
            "Successfully installed Pyspark-3.2.1 py4j-0.10.9.3\n"
          ]
        }
      ],
      "source": [
        "!pip install pyspark"
      ]
    },
    {
      "cell_type": "code",
      "source": [
        "import pyspark"
      ],
      "metadata": {
        "id": "-67dciyTmOVc"
      },
      "execution_count": 38,
      "outputs": []
    },
    {
      "cell_type": "code",
      "source": [
        "import pandas as pd\n",
        "pd.read_csv('/home/Book1.csv')"
      ],
      "metadata": {
        "colab": {
          "base_uri": "https://localhost:8080/",
          "height": 408
        },
        "id": "rkUEwtOvmprO",
        "outputId": "276b5c8e-ce42-4c23-ab99-a7541abf5868"
      },
      "execution_count": 57,
      "outputs": [
        {
          "output_type": "execute_result",
          "data": {
            "text/plain": [
              "         Acct Managers        Qtr1        Qtr2        Qtr3        Qtr4\n",
              "0          Aanya Zhang   $5,187.90   $7,627.17  $28,867.26     $742.53\n",
              "1          Charlie Bui  $24,271.31     $130.78     $116.61     $355.15\n",
              "2         Connor Betts     $854.08  $20,123.65   $3,050.18   $4,373.98\n",
              "3     Leighton Forrest     $815.58   $1,129.69     $327.02  $16,169.12\n",
              "4          Mihael Khan     $425.78     $981.27     $596.70     $470.74\n",
              "5         Natasha Song   $5,080.74   $6,259.31   $4,265.86   $4,956.43\n",
              "6   Nicholas Fernandes  $21,787.86   $1,533.62   $2,191.42   $2,384.04\n",
              "7          Phoebe Gour   $5,117.84  $12,156.60     $351.06  $15,653.93\n",
              "8       Preston Senome   $1,326.07   $1,415.98   $2,314.11   $2,817.60\n",
              "9       Radhya Staples       $0.00       $3.32  $10,373.59     $206.16\n",
              "10     Samantha Chairs   $2,233.62   $2,005.70   $1,542.68   $4,921.92\n",
              "11       Stevie Bacata       $0.00      $91.10       $0.00       $0.00\n",
              "12        Tina Carlton  $17,247.36   $2,512.24   $7,003.82   $2,952.73\n",
              "13         Yvette Biti   $2,252.16   $1,476.92   $3,293.39   $7,731.78"
            ],
            "text/html": [
              "\n",
              "  <div id=\"df-43d03836-2c0e-4cbd-933b-7b15db03fe28\">\n",
              "    <div class=\"colab-df-container\">\n",
              "      <div>\n",
              "<style scoped>\n",
              "    .dataframe tbody tr th:only-of-type {\n",
              "        vertical-align: middle;\n",
              "    }\n",
              "\n",
              "    .dataframe tbody tr th {\n",
              "        vertical-align: top;\n",
              "    }\n",
              "\n",
              "    .dataframe thead th {\n",
              "        text-align: right;\n",
              "    }\n",
              "</style>\n",
              "<table border=\"1\" class=\"dataframe\">\n",
              "  <thead>\n",
              "    <tr style=\"text-align: right;\">\n",
              "      <th></th>\n",
              "      <th>Acct Managers</th>\n",
              "      <th>Qtr1</th>\n",
              "      <th>Qtr2</th>\n",
              "      <th>Qtr3</th>\n",
              "      <th>Qtr4</th>\n",
              "    </tr>\n",
              "  </thead>\n",
              "  <tbody>\n",
              "    <tr>\n",
              "      <th>0</th>\n",
              "      <td>Aanya Zhang</td>\n",
              "      <td>$5,187.90</td>\n",
              "      <td>$7,627.17</td>\n",
              "      <td>$28,867.26</td>\n",
              "      <td>$742.53</td>\n",
              "    </tr>\n",
              "    <tr>\n",
              "      <th>1</th>\n",
              "      <td>Charlie Bui</td>\n",
              "      <td>$24,271.31</td>\n",
              "      <td>$130.78</td>\n",
              "      <td>$116.61</td>\n",
              "      <td>$355.15</td>\n",
              "    </tr>\n",
              "    <tr>\n",
              "      <th>2</th>\n",
              "      <td>Connor Betts</td>\n",
              "      <td>$854.08</td>\n",
              "      <td>$20,123.65</td>\n",
              "      <td>$3,050.18</td>\n",
              "      <td>$4,373.98</td>\n",
              "    </tr>\n",
              "    <tr>\n",
              "      <th>3</th>\n",
              "      <td>Leighton Forrest</td>\n",
              "      <td>$815.58</td>\n",
              "      <td>$1,129.69</td>\n",
              "      <td>$327.02</td>\n",
              "      <td>$16,169.12</td>\n",
              "    </tr>\n",
              "    <tr>\n",
              "      <th>4</th>\n",
              "      <td>Mihael Khan</td>\n",
              "      <td>$425.78</td>\n",
              "      <td>$981.27</td>\n",
              "      <td>$596.70</td>\n",
              "      <td>$470.74</td>\n",
              "    </tr>\n",
              "    <tr>\n",
              "      <th>5</th>\n",
              "      <td>Natasha Song</td>\n",
              "      <td>$5,080.74</td>\n",
              "      <td>$6,259.31</td>\n",
              "      <td>$4,265.86</td>\n",
              "      <td>$4,956.43</td>\n",
              "    </tr>\n",
              "    <tr>\n",
              "      <th>6</th>\n",
              "      <td>Nicholas Fernandes</td>\n",
              "      <td>$21,787.86</td>\n",
              "      <td>$1,533.62</td>\n",
              "      <td>$2,191.42</td>\n",
              "      <td>$2,384.04</td>\n",
              "    </tr>\n",
              "    <tr>\n",
              "      <th>7</th>\n",
              "      <td>Phoebe Gour</td>\n",
              "      <td>$5,117.84</td>\n",
              "      <td>$12,156.60</td>\n",
              "      <td>$351.06</td>\n",
              "      <td>$15,653.93</td>\n",
              "    </tr>\n",
              "    <tr>\n",
              "      <th>8</th>\n",
              "      <td>Preston Senome</td>\n",
              "      <td>$1,326.07</td>\n",
              "      <td>$1,415.98</td>\n",
              "      <td>$2,314.11</td>\n",
              "      <td>$2,817.60</td>\n",
              "    </tr>\n",
              "    <tr>\n",
              "      <th>9</th>\n",
              "      <td>Radhya Staples</td>\n",
              "      <td>$0.00</td>\n",
              "      <td>$3.32</td>\n",
              "      <td>$10,373.59</td>\n",
              "      <td>$206.16</td>\n",
              "    </tr>\n",
              "    <tr>\n",
              "      <th>10</th>\n",
              "      <td>Samantha Chairs</td>\n",
              "      <td>$2,233.62</td>\n",
              "      <td>$2,005.70</td>\n",
              "      <td>$1,542.68</td>\n",
              "      <td>$4,921.92</td>\n",
              "    </tr>\n",
              "    <tr>\n",
              "      <th>11</th>\n",
              "      <td>Stevie Bacata</td>\n",
              "      <td>$0.00</td>\n",
              "      <td>$91.10</td>\n",
              "      <td>$0.00</td>\n",
              "      <td>$0.00</td>\n",
              "    </tr>\n",
              "    <tr>\n",
              "      <th>12</th>\n",
              "      <td>Tina Carlton</td>\n",
              "      <td>$17,247.36</td>\n",
              "      <td>$2,512.24</td>\n",
              "      <td>$7,003.82</td>\n",
              "      <td>$2,952.73</td>\n",
              "    </tr>\n",
              "    <tr>\n",
              "      <th>13</th>\n",
              "      <td>Yvette Biti</td>\n",
              "      <td>$2,252.16</td>\n",
              "      <td>$1,476.92</td>\n",
              "      <td>$3,293.39</td>\n",
              "      <td>$7,731.78</td>\n",
              "    </tr>\n",
              "  </tbody>\n",
              "</table>\n",
              "</div>\n",
              "      <button class=\"colab-df-convert\" onclick=\"convertToInteractive('df-43d03836-2c0e-4cbd-933b-7b15db03fe28')\"\n",
              "              title=\"Convert this dataframe to an interactive table.\"\n",
              "              style=\"display:none;\">\n",
              "        \n",
              "  <svg xmlns=\"http://www.w3.org/2000/svg\" height=\"24px\"viewBox=\"0 0 24 24\"\n",
              "       width=\"24px\">\n",
              "    <path d=\"M0 0h24v24H0V0z\" fill=\"none\"/>\n",
              "    <path d=\"M18.56 5.44l.94 2.06.94-2.06 2.06-.94-2.06-.94-.94-2.06-.94 2.06-2.06.94zm-11 1L8.5 8.5l.94-2.06 2.06-.94-2.06-.94L8.5 2.5l-.94 2.06-2.06.94zm10 10l.94 2.06.94-2.06 2.06-.94-2.06-.94-.94-2.06-.94 2.06-2.06.94z\"/><path d=\"M17.41 7.96l-1.37-1.37c-.4-.4-.92-.59-1.43-.59-.52 0-1.04.2-1.43.59L10.3 9.45l-7.72 7.72c-.78.78-.78 2.05 0 2.83L4 21.41c.39.39.9.59 1.41.59.51 0 1.02-.2 1.41-.59l7.78-7.78 2.81-2.81c.8-.78.8-2.07 0-2.86zM5.41 20L4 18.59l7.72-7.72 1.47 1.35L5.41 20z\"/>\n",
              "  </svg>\n",
              "      </button>\n",
              "      \n",
              "  <style>\n",
              "    .colab-df-container {\n",
              "      display:flex;\n",
              "      flex-wrap:wrap;\n",
              "      gap: 12px;\n",
              "    }\n",
              "\n",
              "    .colab-df-convert {\n",
              "      background-color: #E8F0FE;\n",
              "      border: none;\n",
              "      border-radius: 50%;\n",
              "      cursor: pointer;\n",
              "      display: none;\n",
              "      fill: #1967D2;\n",
              "      height: 32px;\n",
              "      padding: 0 0 0 0;\n",
              "      width: 32px;\n",
              "    }\n",
              "\n",
              "    .colab-df-convert:hover {\n",
              "      background-color: #E2EBFA;\n",
              "      box-shadow: 0px 1px 2px rgba(60, 64, 67, 0.3), 0px 1px 3px 1px rgba(60, 64, 67, 0.15);\n",
              "      fill: #174EA6;\n",
              "    }\n",
              "\n",
              "    [theme=dark] .colab-df-convert {\n",
              "      background-color: #3B4455;\n",
              "      fill: #D2E3FC;\n",
              "    }\n",
              "\n",
              "    [theme=dark] .colab-df-convert:hover {\n",
              "      background-color: #434B5C;\n",
              "      box-shadow: 0px 1px 3px 1px rgba(0, 0, 0, 0.15);\n",
              "      filter: drop-shadow(0px 1px 2px rgba(0, 0, 0, 0.3));\n",
              "      fill: #FFFFFF;\n",
              "    }\n",
              "  </style>\n",
              "\n",
              "      <script>\n",
              "        const buttonEl =\n",
              "          document.querySelector('#df-43d03836-2c0e-4cbd-933b-7b15db03fe28 button.colab-df-convert');\n",
              "        buttonEl.style.display =\n",
              "          google.colab.kernel.accessAllowed ? 'block' : 'none';\n",
              "\n",
              "        async function convertToInteractive(key) {\n",
              "          const element = document.querySelector('#df-43d03836-2c0e-4cbd-933b-7b15db03fe28');\n",
              "          const dataTable =\n",
              "            await google.colab.kernel.invokeFunction('convertToInteractive',\n",
              "                                                     [key], {});\n",
              "          if (!dataTable) return;\n",
              "\n",
              "          const docLinkHtml = 'Like what you see? Visit the ' +\n",
              "            '<a target=\"_blank\" href=https://colab.research.google.com/notebooks/data_table.ipynb>data table notebook</a>'\n",
              "            + ' to learn more about interactive tables.';\n",
              "          element.innerHTML = '';\n",
              "          dataTable['output_type'] = 'display_data';\n",
              "          await google.colab.output.renderOutput(dataTable, element);\n",
              "          const docLink = document.createElement('div');\n",
              "          docLink.innerHTML = docLinkHtml;\n",
              "          element.appendChild(docLink);\n",
              "        }\n",
              "      </script>\n",
              "    </div>\n",
              "  </div>\n",
              "  "
            ]
          },
          "metadata": {},
          "execution_count": 57
        }
      ]
    },
    {
      "cell_type": "code",
      "source": [
        "from pyspark.sql import SparkSession"
      ],
      "metadata": {
        "id": "9IqixMCrn5gM"
      },
      "execution_count": 52,
      "outputs": []
    },
    {
      "cell_type": "code",
      "source": [
        "spark = SparkSession.builder.appName('Session1').getOrCreate()\n",
        "spark"
      ],
      "metadata": {
        "colab": {
          "base_uri": "https://localhost:8080/",
          "height": 219
        },
        "id": "zNNzCMbFq6O7",
        "outputId": "d0944f6c-00c8-41e7-8770-ab0411b4f36e"
      },
      "execution_count": 53,
      "outputs": [
        {
          "output_type": "execute_result",
          "data": {
            "text/plain": [
              "<pyspark.sql.session.SparkSession at 0x7fd33885d2d0>"
            ],
            "text/html": [
              "\n",
              "            <div>\n",
              "                <p><b>SparkSession - in-memory</b></p>\n",
              "                \n",
              "        <div>\n",
              "            <p><b>SparkContext</b></p>\n",
              "\n",
              "            <p><a href=\"http://f4ae86e0f1f2:4040\">Spark UI</a></p>\n",
              "\n",
              "            <dl>\n",
              "              <dt>Version</dt>\n",
              "                <dd><code>v3.2.1</code></dd>\n",
              "              <dt>Master</dt>\n",
              "                <dd><code>local[*]</code></dd>\n",
              "              <dt>AppName</dt>\n",
              "                <dd><code>Session1</code></dd>\n",
              "            </dl>\n",
              "        </div>\n",
              "        \n",
              "            </div>\n",
              "        "
            ]
          },
          "metadata": {},
          "execution_count": 53
        }
      ]
    },
    {
      "cell_type": "code",
      "source": [
        "df_pyspark = spark.read.csv('/home/Book1.csv')"
      ],
      "metadata": {
        "id": "VbGbklcBrx4a"
      },
      "execution_count": 58,
      "outputs": []
    },
    {
      "cell_type": "code",
      "source": [
        "df_pyspark.show()"
      ],
      "metadata": {
        "colab": {
          "base_uri": "https://localhost:8080/"
        },
        "id": "iOFjUVsXt-gI",
        "outputId": "5f96bb92-5af1-4914-ea40-36b8c404e768"
      },
      "execution_count": 59,
      "outputs": [
        {
          "output_type": "stream",
          "name": "stdout",
          "text": [
            "+------------------+----------+----------+----------+----------+\n",
            "|               _c0|       _c1|       _c2|       _c3|       _c4|\n",
            "+------------------+----------+----------+----------+----------+\n",
            "|     Acct Managers|      Qtr1|      Qtr2|      Qtr3|      Qtr4|\n",
            "|       Aanya Zhang| $5,187.90| $7,627.17|$28,867.26|   $742.53|\n",
            "|       Charlie Bui|$24,271.31|   $130.78|   $116.61|   $355.15|\n",
            "|      Connor Betts|   $854.08|$20,123.65| $3,050.18| $4,373.98|\n",
            "|  Leighton Forrest|   $815.58| $1,129.69|   $327.02|$16,169.12|\n",
            "|       Mihael Khan|   $425.78|   $981.27|   $596.70|   $470.74|\n",
            "|      Natasha Song| $5,080.74| $6,259.31| $4,265.86| $4,956.43|\n",
            "|Nicholas Fernandes|$21,787.86| $1,533.62| $2,191.42| $2,384.04|\n",
            "|       Phoebe Gour| $5,117.84|$12,156.60|   $351.06|$15,653.93|\n",
            "|    Preston Senome| $1,326.07| $1,415.98| $2,314.11| $2,817.60|\n",
            "|    Radhya Staples|     $0.00|     $3.32|$10,373.59|   $206.16|\n",
            "|   Samantha Chairs| $2,233.62| $2,005.70| $1,542.68| $4,921.92|\n",
            "|     Stevie Bacata|     $0.00|    $91.10|     $0.00|     $0.00|\n",
            "|      Tina Carlton|$17,247.36| $2,512.24| $7,003.82| $2,952.73|\n",
            "|       Yvette Biti| $2,252.16| $1,476.92| $3,293.39| $7,731.78|\n",
            "+------------------+----------+----------+----------+----------+\n",
            "\n"
          ]
        }
      ]
    },
    {
      "cell_type": "code",
      "source": [
        ""
      ],
      "metadata": {
        "id": "AG_lPNQMuGW7"
      },
      "execution_count": null,
      "outputs": []
    }
  ]
}
